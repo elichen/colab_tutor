{
  "nbformat": 4,
  "nbformat_minor": 0,
  "metadata": {
    "colab": {
      "provenance": [],
      "authorship_tag": "ABX9TyNplAR8w4jwR8+E5P2/GLy+",
      "include_colab_link": true
    },
    "kernelspec": {
      "name": "python3",
      "display_name": "Python 3"
    },
    "language_info": {
      "name": "python"
    }
  },
  "cells": [
    {
      "cell_type": "markdown",
      "metadata": {
        "id": "view-in-github",
        "colab_type": "text"
      },
      "source": [
        "<a href=\"https://colab.research.google.com/github/elichen/colab_tutor/blob/main/Python_Tutor.ipynb\" target=\"_parent\"><img src=\"https://colab.research.google.com/assets/colab-badge.svg\" alt=\"Open In Colab\"/></a>"
      ]
    },
    {
      "cell_type": "code",
      "source": [
        "def greeting():\n",
        "  print(hello)\n",
        "greeting()"
      ],
      "metadata": {
        "colab": {
          "base_uri": "https://localhost:8080/",
          "height": 269
        },
        "id": "_D2Jy3szS3Y0",
        "outputId": "7f4d031c-07ba-44fa-d865-5344125ac3bc"
      },
      "execution_count": 1,
      "outputs": [
        {
          "output_type": "error",
          "ename": "NameError",
          "evalue": "name 'hello' is not defined",
          "traceback": [
            "\u001b[0;31m---------------------------------------------------------------------------\u001b[0m",
            "\u001b[0;31mNameError\u001b[0m                                 Traceback (most recent call last)",
            "\u001b[0;32m<ipython-input-1-8b338413bd67>\u001b[0m in \u001b[0;36m<cell line: 3>\u001b[0;34m()\u001b[0m\n\u001b[1;32m      1\u001b[0m \u001b[0;32mdef\u001b[0m \u001b[0mgreeting\u001b[0m\u001b[0;34m(\u001b[0m\u001b[0;34m)\u001b[0m\u001b[0;34m:\u001b[0m\u001b[0;34m\u001b[0m\u001b[0;34m\u001b[0m\u001b[0m\n\u001b[1;32m      2\u001b[0m   \u001b[0mprint\u001b[0m\u001b[0;34m(\u001b[0m\u001b[0mhello\u001b[0m\u001b[0;34m)\u001b[0m\u001b[0;34m\u001b[0m\u001b[0;34m\u001b[0m\u001b[0m\n\u001b[0;32m----> 3\u001b[0;31m \u001b[0mgreeting\u001b[0m\u001b[0;34m(\u001b[0m\u001b[0;34m)\u001b[0m\u001b[0;34m\u001b[0m\u001b[0;34m\u001b[0m\u001b[0m\n\u001b[0m",
            "\u001b[0;32m<ipython-input-1-8b338413bd67>\u001b[0m in \u001b[0;36mgreeting\u001b[0;34m()\u001b[0m\n\u001b[1;32m      1\u001b[0m \u001b[0;32mdef\u001b[0m \u001b[0mgreeting\u001b[0m\u001b[0;34m(\u001b[0m\u001b[0;34m)\u001b[0m\u001b[0;34m:\u001b[0m\u001b[0;34m\u001b[0m\u001b[0;34m\u001b[0m\u001b[0m\n\u001b[0;32m----> 2\u001b[0;31m   \u001b[0mprint\u001b[0m\u001b[0;34m(\u001b[0m\u001b[0mhello\u001b[0m\u001b[0;34m)\u001b[0m\u001b[0;34m\u001b[0m\u001b[0;34m\u001b[0m\u001b[0m\n\u001b[0m\u001b[1;32m      3\u001b[0m \u001b[0mgreeting\u001b[0m\u001b[0;34m(\u001b[0m\u001b[0;34m)\u001b[0m\u001b[0;34m\u001b[0m\u001b[0;34m\u001b[0m\u001b[0m\n",
            "\u001b[0;31mNameError\u001b[0m: name 'hello' is not defined"
          ]
        }
      ]
    },
    {
      "cell_type": "code",
      "execution_count": 2,
      "metadata": {
        "id": "_UOlmO1qRSZW"
      },
      "outputs": [],
      "source": [
        "from google.colab import _message\n",
        "nb = _message.blocking_request('get_ipynb')\n",
        "\n",
        "cell = next(x for x in nb['ipynb']['cells'] if x['cell_type'] == 'code')"
      ]
    },
    {
      "cell_type": "code",
      "source": [
        "%pip install -q openai"
      ],
      "metadata": {
        "id": "L-rCT_FpVqpd"
      },
      "execution_count": 3,
      "outputs": []
    },
    {
      "cell_type": "code",
      "source": [
        "import openai\n",
        "from google.colab import userdata\n",
        "\n",
        "source_code = \"\".join(cell['source'])  # Joining list of source lines into a single string\n",
        "output_results = cell['outputs']\n",
        "\n",
        "client = openai.OpenAI(api_key=userdata.get('OPENAI_API_KEY'))\n",
        "\n",
        "completion = client.chat.completions.create(\n",
        "  model=\"gpt-4-turbo-preview\",\n",
        "  messages=[\n",
        "    {\"role\": \"system\", \"content\": \"You are a friendly Python tutor for kids. Explain concepts in a simple way that a 13-year-old would find interesting and easy to understand. Use analogies, simple language, and avoid technical jargon.\"},\n",
        "    {\"role\": \"user\", \"content\": f\"Hi! I'm trying to learn programming and I wrote this code. But I'm a bit confused about how it works and what it does. Can you explain it to me? Here's my code and what it prints out:\\n\\nCode:\\n{source_code}\\n\\nOutput:\\n{output_results}\"}\n",
        "  ]\n",
        ")\n",
        "\n",
        "from IPython.display import display, Markdown\n",
        "\n",
        "markdown_output = completion.choices[0].message.content\n",
        "display(Markdown(markdown_output))"
      ],
      "metadata": {
        "colab": {
          "base_uri": "https://localhost:8080/",
          "height": 595
        },
        "id": "WLT-UXk5a3E_",
        "outputId": "927eb5f7-ea1d-402f-99a3-ff2fbcdfb944"
      },
      "execution_count": 5,
      "outputs": [
        {
          "output_type": "display_data",
          "data": {
            "text/plain": [
              "<IPython.core.display.Markdown object>"
            ],
            "text/markdown": "Hey there! I'm excited to help you understand your code and what went a little sideways with it. Let's break it down in a fun way, like we're detectives trying to solve a mystery!\n\nSo, you've created a function named `greeting()` which is sort of like a magic spell in a fantasy game. When you cast it (or in programming terms, call it), it's supposed to do something cool – in this case, print out a greeting. The problem starts when the spell... I mean, the function, tries to say a magic word: `hello`. \n\nImagine you're in a magical world where you need to declare (or in our world, define) magic words before you use them, or else nobody knows what you're talking about. It's like if you tried to call your friend using a nickname nobody's ever heard before. Everyone around you would be confused, right?\n\nIn your code, when you wrote `print(hello)`, Python looked around and said, \"Wait a minute, I don't know what 'hello' is supposed to mean!\" That's because `hello` needs to be defined somewhere in the code for Python to understand it.\n\nThere are two main ways you can fix this mystery:\n\n### 1. Use Quotation Marks for Strings\nIf you meant to print the word \"hello\" as a greeting, you need to put `hello` in quotation marks like this:\n\n```python\ndef greeting():\n  print(\"hello\")\ngreeting()  # This now prints out: hello\n```\n\nWith quotation marks, you're telling Python, \"Hey, 'hello' is just a word I want to say. It's not a special code word or anything.\"\n\n### 2. Define `hello` Before You Use It\nIf `hello` was supposed to be a variable holding a message, then you need to define it before you use it, like so:\n\n```python\nhello = \"Hi there, friend!\"\ndef greeting():\n  print(hello)\ngreeting()  # This prints out: Hi there, friend!\n```\n\nBy doing this, you're saying, \"Whenever I mention 'hello', it's this friendly message I want you to remember.\"\n\nSo, in short, your code had a little hiccup because it tried to use a magic word, `hello`, without properly introducing it to Python first. Remember, in the world of coding, clear introductions are key! Whether it's a word you just want to print or a special message you've prepared, make sure Python knows what you're talking about by using quotation marks for simple text or defining your variables before you use them. \n\nHappy coding, and may your future code-casting be error-free and magical! 🌟"
          },
          "metadata": {}
        }
      ]
    },
    {
      "cell_type": "code",
      "source": [],
      "metadata": {
        "id": "YMny9_gWhz_d"
      },
      "execution_count": null,
      "outputs": []
    }
  ]
}