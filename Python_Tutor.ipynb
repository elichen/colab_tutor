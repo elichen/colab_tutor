{
  "nbformat": 4,
  "nbformat_minor": 0,
  "metadata": {
    "colab": {
      "provenance": [],
      "authorship_tag": "ABX9TyNc/ZzIsSQPUtAtLj+MvzqW",
      "include_colab_link": true
    },
    "kernelspec": {
      "name": "python3",
      "display_name": "Python 3"
    },
    "language_info": {
      "name": "python"
    }
  },
  "cells": [
    {
      "cell_type": "markdown",
      "metadata": {
        "id": "view-in-github",
        "colab_type": "text"
      },
      "source": [
        "<a href=\"https://colab.research.google.com/github/elichen/colab_tutor/blob/main/Python_Tutor.ipynb\" target=\"_parent\"><img src=\"https://colab.research.google.com/assets/colab-badge.svg\" alt=\"Open In Colab\"/></a>"
      ]
    },
    {
      "cell_type": "code",
      "source": [
        "for i in range(10):\n",
        "  print(i)"
      ],
      "metadata": {
        "colab": {
          "base_uri": "https://localhost:8080/"
        },
        "id": "_D2Jy3szS3Y0",
        "outputId": "7e4ce8c2-ce6a-4b1f-8cc2-8db6bae9ddfb"
      },
      "execution_count": null,
      "outputs": [
        {
          "output_type": "stream",
          "name": "stdout",
          "text": [
            "0\n",
            "1\n",
            "2\n",
            "3\n",
            "4\n",
            "5\n",
            "6\n",
            "7\n",
            "8\n",
            "9\n"
          ]
        }
      ]
    },
    {
      "cell_type": "code",
      "source": [
        "from google.colab import _message\n",
        "from IPython.display import display, Markdown\n",
        "import requests\n",
        "def ask_tutor(question):\n",
        "  nb = _message.blocking_request('get_ipynb')\n",
        "  cell = next(x for x in nb['ipynb']['cells'] if x['cell_type'] == 'code')\n",
        "  res = requests.post(\"https://elichen.pythonanywhere.com/tutor\", json={\"question\":question,\n",
        "      \"source_code\": \"\".join(cell['source']), \"output_results\": cell['outputs'] })\n",
        "  display(Markdown(res.json()['tutor_response'])) if res.status_code == 200 else print(\"Error!\")\n",
        "\n",
        "ask_tutor(\"how do i put this inside a function?\")"
      ],
      "metadata": {
        "id": "YMny9_gWhz_d",
        "colab": {
          "base_uri": "https://localhost:8080/",
          "height": 216
        },
        "outputId": "34a98f6a-5949-4dbe-cb3a-274402723729"
      },
      "execution_count": null,
      "outputs": [
        {
          "output_type": "display_data",
          "data": {
            "text/plain": [
              "<IPython.core.display.Markdown object>"
            ],
            "text/markdown": "Imagine you have a magic box that can count numbers from 0 to 9 and shout them out loud. To use this magic box anytime you want, you can put it into a spell (or what grown-ups call a \"function\") so that every time you say the magic words, the box does its counting trick.\n\nHere's how we create our spell:\n\n```python\ndef count_numbers():\n    for i in range(10):\n        print(i)\n```\n\nNow, whenever you want to use this spell, you just say (or \"call\" in grown-up speak) the magic words `count_numbers()`, like this:\n\n```python\ncount_numbers()\n```\n\nAnd voila! Your magic box will count from 0 to 9 out loud, just like before."
          },
          "metadata": {}
        }
      ]
    }
  ]
}