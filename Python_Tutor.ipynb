{
  "nbformat": 4,
  "nbformat_minor": 0,
  "metadata": {
    "colab": {
      "provenance": [],
      "authorship_tag": "ABX9TyPpO7N0oz8uuIPyeCvlkjQM",
      "include_colab_link": true
    },
    "kernelspec": {
      "name": "python3",
      "display_name": "Python 3"
    },
    "language_info": {
      "name": "python"
    }
  },
  "cells": [
    {
      "cell_type": "markdown",
      "metadata": {
        "id": "view-in-github",
        "colab_type": "text"
      },
      "source": [
        "<a href=\"https://colab.research.google.com/github/elichen/colab_tutor/blob/main/Python_Tutor.ipynb\" target=\"_parent\"><img src=\"https://colab.research.google.com/assets/colab-badge.svg\" alt=\"Open In Colab\"/></a>"
      ]
    },
    {
      "cell_type": "code",
      "source": [
        "def greeting():\n",
        "  print(hello)"
      ],
      "metadata": {
        "id": "_D2Jy3szS3Y0"
      },
      "execution_count": 39,
      "outputs": []
    },
    {
      "cell_type": "code",
      "source": [
        "from google.colab import _message\n",
        "from IPython.display import display, Markdown\n",
        "import requests\n",
        "nb = _message.blocking_request('get_ipynb')\n",
        "cell = next(x for x in nb['ipynb']['cells'] if x['cell_type'] == 'code')\n",
        "res = requests.post(\"https://elichen.pythonanywhere.com/tutor\", json={\n",
        "    \"source_code\": \"\".join(cell['source']), \"output_results\": cell['outputs'] })\n",
        "display(Markdown(res.json()['tutor_response'])) if res.status_code == 200 else print(\"Error!\")"
      ],
      "metadata": {
        "id": "YMny9_gWhz_d",
        "colab": {
          "base_uri": "https://localhost:8080/",
          "height": 222
        },
        "outputId": "1b59f61a-22f5-4224-a024-5fd326981823"
      },
      "execution_count": 42,
      "outputs": [
        {
          "output_type": "display_data",
          "data": {
            "text/plain": [
              "<IPython.core.display.Markdown object>"
            ],
            "text/markdown": "Imagine you have a magical box named \"greeting.\" This magical box is supposed to shout out a secret word when you open it. But, oops! We forgot to put the secret word into the box before we decided to open it.\n\nIn the code, `greeting()` is like our magical box. It's supposed to do something special - print a word. But when we look inside the code, we see it's trying to print `hello`, yet it's confused because it doesn't actually know what `hello` means. It's like we mentioned the secret word without telling anyone what the word is supposed to be.\n\nAnd when we try to see what the magical box does (which means running the code), instead of showing us a neat trick (like printing out \"Hello!\"), it doesn't show us anything because it's confused. There's a mistake because it was supposed to reveal something (the word \"hello\"), but it wasn't properly taught what \"hello\" means inside the code.\n\nSo, in the world of coding, we need to make sure our magical boxes (functions) know all the secrets (like what `hello` means) before we ask them to share those secrets with us."
          },
          "metadata": {}
        }
      ]
    },
    {
      "cell_type": "code",
      "source": [],
      "metadata": {
        "id": "i56wZcd0p_s-"
      },
      "execution_count": null,
      "outputs": []
    }
  ]
}